{
 "cells": [
  {
   "cell_type": "code",
   "execution_count": 1,
   "metadata": {},
   "outputs": [],
   "source": [
    "import numpy as np\n",
    "import matplotlib.pyplot as plt\n",
    "import copy\n",
    "import jax\n",
    "import jax.numpy as jnp\n",
    "import scipy.stats as stats\n",
    "import math\n",
    "import csv\n",
    "#from jax import grad, jit, devices\n",
    "#import autograd.numpy as jnp\n",
    "#from autograd import grad"
   ]
  },
  {
   "cell_type": "code",
   "execution_count": 2,
   "metadata": {},
   "outputs": [],
   "source": [
    "def func_reshape(image, max_size):\n",
    "    p = len(image)\n",
    "    if p < max_size:\n",
    "        image = jnp.hstack((jnp.zeros((p,(max_size-p)//2)), image, jnp.zeros((p,(max_size-p)//2))))\n",
    "        image = jnp.vstack((jnp.zeros(((max_size-p)//2,max_size)), image, jnp.zeros(((max_size-p)//2,max_size))))\n",
    "    return image"
   ]
  },
  {
   "cell_type": "code",
   "execution_count": 3,
   "metadata": {},
   "outputs": [],
   "source": [
    "# lam_x = np.loadtxt('6V_Wavelength.csv', dtype=np.int32)\n",
    "# inten_x = np.loadtxt('6V_Intensity.csv', dtype=np.float32)\n",
    "# lam_x = np.array(lam_x)/1e+3\n",
    "# inten_x = np.array(inten_x)\n",
    "\n",
    "# max_index = inten_x.argmax()\n",
    "# lam_depth = len(lam_x)\n",
    "\n",
    "# lam = lam_x[max_index]\n",
    "# inten_x /= inten_x[max_index]\n",
    "\n",
    "# plt.figure(figsize=(16,8))\n",
    "# plt.stem(lam_x*1.0e3, inten_x, use_line_collection=True)\n",
    "# plt.title('The spectrum of LED laser')\n",
    "# plt.xlabel('Wavelength (nm)')\n",
    "# plt.ylabel('Intensity')\n",
    "# plt.show()"
   ]
  },
  {
   "cell_type": "code",
   "execution_count": 4,
   "metadata": {},
   "outputs": [
    {
     "data": {
      "image/png": "[encoded data removed]",
      "text/plain": [
       "<Figure size 432x288 with 1 Axes>"
      ]
     },
     "metadata": {
      "needs_background": "light"
     },
     "output_type": "display_data"
    }
   ],
   "source": [
    "lam_x = np.array([0.532])\n",
    "inten_x = np.array([1])\n",
    "# lam_x = np.array([0.460, 0.5, 0.532, 0.57, 0.66, 0.78])\n",
    "# inten_x = np.array([0, 0, 1, 0, 0.00, 1])\n",
    "\n",
    "max_index = inten_x.argmax()\n",
    "lam_depth = len(lam_x)\n",
    "\n",
    "lam = lam_x[max_index]\n",
    "\n",
    "plt.stem(lam_x*1.0e3, inten_x, use_line_collection=True)\n",
    "plt.xlim(350,800)\n",
    "plt.title('The spectrum of LED laser')\n",
    "plt.xlabel('Wavelength (nm)')\n",
    "plt.ylabel('Intensity')\n",
    "plt.show()"
   ]
  },
  {
   "cell_type": "code",
   "execution_count": 5,
   "metadata": {
    "scrolled": false
   },
   "outputs": [
    {
     "name": "stdout",
     "output_type": "stream",
     "text": [
      "target image size:  2048 x 2048\n"
     ]
    },
    {
     "data": {
      "image/png": "[encoded data removed]",
      "text/plain": [
       "<Figure size 400x400 with 1 Axes>"
      ]
     },
     "metadata": {
      "needs_background": "light"
     },
     "output_type": "display_data"
    },
    {
     "name": "stdout",
     "output_type": "stream",
     "text": [
      "The number of SLM pixels:  4194304\n",
      "The number of IMG pixels:  4194304\n",
      "focal length:  15.398496240601505 mm\n",
      "SLM pitch: 2.0 (um)\n",
      "IMG pitch: 2.0 (um)\n",
      "SLM size:  4096.0 (um) x 4096.0 (um)\n",
      "IMG size:  4096.0 (um) x 4096.0 (um)\n",
      "Fresnel number:  512.0\n",
      "Refractive index:  0.6\n"
     ]
    }
   ],
   "source": [
    "%matplotlib inline\n",
    "\n",
    "logo = plt.imread('EK_1616x1616.png')[:,:,0]\n",
    "ll, mm = 1616, 2048\n",
    "\n",
    "logo = (logo>0.5)*1\n",
    "\n",
    "logo = np.hstack((np.zeros((ll,(mm-ll)//2)),logo,np.zeros((ll,(mm-ll)//2))))\n",
    "logo = np.vstack((np.zeros(((mm-ll)//2,mm)),logo,np.zeros(((mm-ll)//2,mm))))\n",
    "\n",
    "# logo = logo[::16,::16]\n",
    "# logo = np.kron(logo, np.ones((8,8)))\n",
    "logo = logo.astype(np.int8)\n",
    "\n",
    "p = logo.shape[0]                # pxp target image\n",
    "m = p*p                          # number of pixels in target image\n",
    "m_b = int(np.sum(logo))          # number of bright pixels\n",
    "m_d = m - m_b                    # number of dark pixels\n",
    "\n",
    "target_coords = np.where( logo > 0 )\n",
    "\n",
    "target = logo\n",
    "print(\"target image size: \",p,\"x\",p)\n",
    "plt.figure(dpi=100, figsize=(4,4))\n",
    "plt.imshow(target, cmap='gray')\n",
    "plt.axis('off')\n",
    "plt.title('Target')\n",
    "plt.show()\n",
    "\n",
    "d_n = 0.6                        # Refractive index of Photoresist : 1.6\n",
    "q   = int(1.0*p)\n",
    "d   = 2.0              # pitch: 2 micrometer\n",
    "f   = p/lam*4\n",
    "\n",
    "max_size = int(p*lam_x[-1]/lam)\n",
    "max_size += max_size%2\n",
    "\n",
    "# list of SLM pixels contained in the pupil\n",
    "slm_x, slm_y = np.meshgrid( np.arange(q), np.arange(q) )\n",
    "slm_x = ( slm_x - int(q/2) ) * d\n",
    "slm_y = ( slm_y - int(q/2) ) * d\n",
    "slm_x = slm_x.astype(np.float32)\n",
    "slm_y = slm_y.astype(np.float32)\n",
    "\n",
    "# quad_phase = np.zeros((q,q,), dtype=np.complex64)\n",
    "# quad_phase = np.exp(1j*np.pi/(lam*f)*( slm_x**2 + slm_y**2 ))\n",
    "\n",
    "pup_ind = np.kron(range(q),np.ones(q,dtype=np.int8)), \\\n",
    "          np.kron(np.ones(q,dtype=np.int8),range(q))\n",
    "\n",
    "n = pup_ind[0].shape[0]\n",
    "\n",
    "SLM_size = d*q         # in um\n",
    "IMG_size = lam*f/d     # in um\n",
    "IMG_pitch = IMG_size/p # in um\n",
    "\n",
    "\n",
    "#px = ( px_ind - int(p/2) ) * IMG_pitch\n",
    "#py = ( py_ind - int(p/2) ) * IMG_pitch\n",
    "#pz = ( py_ind*0 + f )\n",
    "\n",
    "print(\"The number of SLM pixels: \",n)\n",
    "print(\"The number of IMG pixels: \",m)\n",
    "print(\"focal length: \",f*1e-3,\"mm\")\n",
    "print(\"SLM pitch:\",d,\"(um)\")\n",
    "print(\"IMG pitch:\", IMG_pitch,\"(um)\")\n",
    "print(\"SLM size: \", SLM_size, \"(um) x\", SLM_size, \"(um)\")\n",
    "print(\"IMG size: \", IMG_size, \"(um) x\", IMG_size, \"(um)\")\n",
    "print(\"Fresnel number: \", SLM_size**2/4/lam/f)\n",
    "print(\"Refractive index: \", d_n)"
   ]
  },
  {
   "cell_type": "code",
   "execution_count": 6,
   "metadata": {},
   "outputs": [
    {
     "name": "stdout",
     "output_type": "stream",
     "text": [
      "lam_depth : 1\n"
     ]
    }
   ],
   "source": [
    "quad_phase_3d = np.zeros((q,q,lam_depth), dtype=np.complex64)\n",
    "for i in range(lam_depth):\n",
    "    quad_phase_3d[:,:,i] = np.exp(1j*np.pi/(lam_x[i]*f)*( slm_x**2 + slm_y**2 ))\n",
    "\n",
    "print('lam_depth :',lam_depth)"
   ]
  },
  {
   "cell_type": "markdown",
   "metadata": {},
   "source": [
    "# random superposition (단일 파장 고려)"
   ]
  },
  {
   "cell_type": "code",
   "execution_count": 7,
   "metadata": {},
   "outputs": [],
   "source": [
    "# wf = np.zeros((q,q), dtype=np.complex64)\n",
    "# wf_slm = np.zeros((q,q), dtype=np.complex64)\n",
    "\n",
    "# pists = np.random.rand(m_b)*2*np.pi\n",
    "# pists = pists.astype(np.float32)\n",
    "\n",
    "# wf[target_coords] = np.exp(1j*pists)\n",
    "# wf *= quad_phase_3d[:,:,0] # lam = 532nm\n",
    "# wf *= np.exp(1j*2*np.pi*f/lam)/(1j*lam*f)\n",
    "\n",
    "# wf_slm += np.fft.ifft2(wf/(np.exp(1j*2*np.pi*f/lam)/(1j*lam*f))) * np.exp(-1j*2*np.pi/lam*f)/quad_phase_3d[:,:,0]*(1j*lam*f)\n",
    "\n",
    "# phase_rs = np.angle(wf_slm)\n",
    "# phase_rs = phase_rs.astype(np.float32)\n",
    "\n",
    "# del wf, wf_slm\n",
    "\n",
    "# d_n = 0.6                        # Refractive index of Photoresist : 1.6\n",
    "\n",
    "# LC_d_rs = phase_rs * lam/(2*np.pi*d_n) # in um\n",
    "\n",
    "# intensity_rs = np.zeros((p,p), dtype=np.float32)\n",
    "\n",
    "# for i in range(lam_depth):\n",
    "#     phase_rs = LC_d_rs*2*np.pi*d_n/lam_x[i]\n",
    "#     xxx = np.exp(1j*phase_rs)*quad_phase_3d[:,:,i]\n",
    "#     zzz = inten_x[i]*np.fft.fft2(xxx)/n\n",
    "#     intensity_rs += np.abs(zzz)**2\n",
    "\n",
    "# print(\"RS maximum intensity: \",intensity_rs.max())\n",
    "# print(\"RS minimum intensity: \",intensity_rs.min())"
   ]
  },
  {
   "cell_type": "markdown",
   "metadata": {},
   "source": [
    "# random superposition (여러 파장 고려)"
   ]
  },
  {
   "cell_type": "code",
   "execution_count": 8,
   "metadata": {},
   "outputs": [
    {
     "name": "stdout",
     "output_type": "stream",
     "text": [
      "RS maximum intensity:  1.2016511e-13\n",
      "RS minimum intensity:  1.545854e-22\n"
     ]
    },
    {
     "data": {
      "image/png": "[encoded data removed]",
      "text/plain": [
       "<Figure size 432x288 with 1 Axes>"
      ]
     },
     "metadata": {
      "needs_background": "light"
     },
     "output_type": "display_data"
    }
   ],
   "source": [
    "wf = np.zeros((q,q,lam_depth), dtype=np.complex64)\n",
    "wf_slm = np.zeros((q,q,lam_depth), dtype=np.complex64)\n",
    "phase_rs = np.zeros((q,q,lam_depth), dtype=np.complex64)\n",
    "\n",
    "for i in range(lam_depth):\n",
    "    pists = np.random.rand(m_b)*2*np.pi\n",
    "    pists = pists.astype(np.float32)\n",
    "    \n",
    "    wf[:,:,i][target_coords] = np.exp(1j*pists)\n",
    "    wf[:,:,i] *= quad_phase_3d[:,:,i]\n",
    "    wf[:,:,i] *= np.exp(1j*2*np.pi*f/lam_x[i])/(1j*lam_x[i]*f)\n",
    "\n",
    "    wf_slm[:,:,i] = np.fft.ifft2(wf[:,:,i]/(np.exp(1j*2*np.pi*f/lam_x[i])/(1j*lam_x[i]*f))) \\\n",
    "    * np.exp(-1j*2*np.pi/lam_x[i]*f)/quad_phase_3d[:,:,i]*(1j*lam_x[i]*f)\n",
    "    \n",
    "    phase_rs[:,:,i] = np.angle(wf_slm[:,:,i]).astype(np.float32)\n",
    "\n",
    "del wf, wf_slm\n",
    "\n",
    "d_n = 0.6                        # Refractive index of Photoresist : 1.6\n",
    "\n",
    "# LC_d_rs는 phase_rs[:,:,max_index]으로 생성한 LC_d이다.\n",
    "LC_d_rs = phase_rs[:,:,max_index]*lam_x[max_index]/(2*np.pi*d_n)\n",
    "\n",
    "intensity_rs = np.zeros((p,p), dtype=np.float32)\n",
    "\n",
    "for i in range(lam_depth):\n",
    "    xxx = np.exp(1j*phase_rs[:,:,i])*quad_phase_3d[:,:,i]\n",
    "    zzz = inten_x[i]*np.exp(1j*2*np.pi*f/lam_x[i])/(1j*lam_x[i]*f)*np.fft.fft2(xxx)/n\n",
    "    intensity_rs += np.abs(zzz)**2\n",
    "\n",
    "del xxx, zzz\n",
    "\n",
    "print(\"RS maximum intensity: \",intensity_rs.max())\n",
    "print(\"RS minimum intensity: \",intensity_rs.min())\n",
    "\n",
    "plt.imshow(intensity_rs,cmap='gray')\n",
    "plt.axis('off')\n",
    "plt.title('intensity_rs')\n",
    "plt.show()"
   ]
  },
  {
   "cell_type": "markdown",
   "metadata": {},
   "source": [
    "# intensity_desired 및 e_image 설정"
   ]
  },
  {
   "cell_type": "code",
   "execution_count": 9,
   "metadata": {},
   "outputs": [
    {
     "name": "stdout",
     "output_type": "stream",
     "text": [
      "desired intensity(rs):  5.6283700844515084e-14\n"
     ]
    },
    {
     "data": {
      "image/png": "[encoded data removed]",
      "text/plain": [
       "<Figure size 432x288 with 1 Axes>"
      ]
     },
     "metadata": {
      "needs_background": "light"
     },
     "output_type": "display_data"
    }
   ],
   "source": [
    "intensity_desired = np.mean(intensity_rs[target>0]) * 1.2\n",
    "print(\"desired intensity(rs): \",intensity_desired)\n",
    "\n",
    "# expected image\n",
    "e_image = target*intensity_desired\n",
    "e_image = func_reshape(e_image, max_size)\n",
    "\n",
    "e_size_x,e_size_y = e_image.shape\n",
    "\n",
    "plt.imshow(e_image, cmap='gray')\n",
    "plt.title(f'e_image {e_size_x,e_size_y}')\n",
    "plt.axis('off')\n",
    "plt.show()"
   ]
  },
  {
   "cell_type": "markdown",
   "metadata": {},
   "source": [
    "# File load"
   ]
  },
  {
   "cell_type": "code",
   "execution_count": null,
   "metadata": {
    "scrolled": false
   },
   "outputs": [],
   "source": [
    "filename_1 = 'LC_d_ls_1_%dx%d' %(p,p)\n",
    "LC_d_ls_1 = np.loadtxt(filename_1+'.csv', dtype=np.float32)\n",
    "\n",
    "intensity_ls_1 = np.zeros((max_size,max_size), dtype=np.float32)\n",
    "\n",
    "for i in range(lam_depth):\n",
    "    phase_ls_1 = LC_d_ls_1*2*np.pi*d_n/lam_x[i]\n",
    "    xxx = np.exp(1j*phase_ls_1)*quad_phase_3d[:,:,i]\n",
    "    zzz = inten_x[i]*np.exp(1j*2*np.pi*f/lam_x[i])/(1j*lam_x[i]*f)*np.fft.fft2(xxx)/n\n",
    "    img_size = int(p*lam_x[i]/lam)\n",
    "    img_size += img_size%2\n",
    "    zzz = jax.image.resize(zzz, (img_size, img_size), \"nearest\")\n",
    "    zzz = func_reshape(zzz, max_size)\n",
    "    intensity_ls_1 += np.abs(zzz)**2\n",
    "del xxx, zzz\n",
    "\n",
    "print('LS_1')"
   ]
  },
  {
   "cell_type": "code",
   "execution_count": null,
   "metadata": {
    "scrolled": true
   },
   "outputs": [],
   "source": [
    "filename_2 = 'LC_d_ls_2_%dx%d' %(p,p)\n",
    "LC_d_ls_2 = np.loadtxt(filename_2+'.csv', dtype=np.float32)\n",
    "\n",
    "intensity_ls_2 = np.zeros((max_size,max_size), dtype=np.float32)\n",
    "\n",
    "for i in range(lam_depth):\n",
    "    phase_ls_2 = LC_d_ls_2*2*np.pi*d_n/lam_x[i]\n",
    "    xxx = np.exp(1j*phase_ls_2)*quad_phase_3d[:,:,i]\n",
    "    zzz = inten_x[i]*np.exp(1j*2*np.pi*f/lam_x[i])/(1j*lam_x[i]*f)*np.fft.fft2(xxx)/n\n",
    "    img_size = int(p*lam_x[i]/lam)\n",
    "    img_size += img_size%2\n",
    "    zzz = jax.image.resize(zzz, (img_size, img_size), \"nearest\")\n",
    "    zzz = func_reshape(zzz, max_size)\n",
    "    intensity_ls_2 += np.abs(zzz)**2\n",
    "del xxx, zzz\n",
    "\n",
    "print('LS_2')"
   ]
  },
  {
   "cell_type": "markdown",
   "metadata": {},
   "source": [
    "# loss"
   ]
  },
  {
   "cell_type": "code",
   "execution_count": null,
   "metadata": {},
   "outputs": [],
   "source": [
    "%env XLA_PYTHON_CLIENT_ALLOCATOR=platform\n",
    "\n",
    "gpus = jax.devices('gpu')\n",
    "\n",
    "# lam_x (여러 개 고려, 전부 중첩해서 532nm에 대응되는 이미지만 고려)\n",
    "def loss0(LC_d):\n",
    "    # z = jnp.zeros((max_size,max_size), dtype=np.float32)\n",
    "    intensity_loss = jnp.zeros((max_size,max_size))\n",
    "    for i in range(lam_depth):\n",
    "        img_size = int(p*lam_x[i]/lam)\n",
    "        img_size += img_size%2\n",
    "        phi = LC_d*2*jnp.pi*d_n/lam_x[i]\n",
    "        z = inten_x[i]*jnp.exp(1j*2*jnp.pi*f/lam_x[i]) \\\n",
    "        /(1j*lam_x[i]*f)*jnp.fft.fft2(jnp.exp(1j*phi)*quad_phase_3d[:,:,i])/n\n",
    "        z = jnp.abs(z)**2\n",
    "        z = jax.image.resize(z, (img_size, img_size), \"nearest\")\n",
    "        z = func_reshape(z, max_size)\n",
    "        intensity_loss += z\n",
    "    return 1.0e18*n*jnp.linalg.norm(intensity_loss - e_image)**2\n",
    "\n",
    "grad0 = jax.grad(loss0)\n",
    "loss0 = jax.jit(loss0, device=gpus[0])\n",
    "grad0 = jax.jit(grad0, device=gpus[0])\n",
    "\n",
    "# lam_x (여러 개 고려, 각 파장 별로 생기는 이미지 모두 고려)\n",
    "def loss1(LC_d):\n",
    "    # z = jnp.zeros((max_size,max_size), dtype=np.float32)\n",
    "    loss_return = 0\n",
    "    \n",
    "    for i in range(lam_depth):\n",
    "        f_loss = p/lam_x[i]*4\n",
    "        \n",
    "        quad_phase_3d_loss = jnp.exp(1j*np.pi/(lam_x[i]*f_loss)*( slm_x**2 + slm_y**2 ))\n",
    "        \n",
    "        img_size = int(p*lam_x[i]/lam)\n",
    "        img_size += img_size%2\n",
    "        \n",
    "        phi = LC_d*2*jnp.pi*d_n/lam_x[i]\n",
    "        \n",
    "        z = inten_x[i]*jnp.exp(1j*2*jnp.pi*f_loss/lam_x[i])/(1j*lam_x[i]*f_loss)*jnp.fft.fft2(jnp.exp(1j*phi)*quad_phase_3d_loss)/n\n",
    "        z = jnp.abs(z)**2\n",
    "        z = jax.image.resize(z, (img_size, img_size), \"nearest\")\n",
    "        z = func_reshape(z, max_size)\n",
    "        \n",
    "        if i == max_index:\n",
    "            loss_return += 1.0e18*n*jnp.linalg.norm(z - e_image)**2\n",
    "        else:\n",
    "            loss_return += 1.0e18*n*jnp.linalg.norm(z)**2\n",
    "    return loss_return\n",
    "\n",
    "grad1 = jax.grad(loss1)\n",
    "loss1 = jax.jit(loss1, device=gpus[0])\n",
    "grad1 = jax.jit(grad1, device=gpus[0])"
   ]
  },
  {
   "cell_type": "code",
   "execution_count": null,
   "metadata": {
    "scrolled": false
   },
   "outputs": [],
   "source": [
    "%%time\n",
    "\n",
    "LC_d = copy.deepcopy(LC_d_rs)\n",
    "\n",
    "max_iter = 100\n",
    "loss_hist = np.zeros(max_iter, dtype=np.float32)\n",
    "grad_hist = np.zeros(max_iter, dtype=np.float32)\n",
    "move_hist = np.zeros(max_iter, dtype=np.float32)\n",
    "velo_hist = np.zeros(max_iter, dtype=np.float32)\n",
    "\n",
    "# step_size = (q/512)\n",
    "step_size = 4 #eta\n",
    "velocity = 0\n",
    "momentum = 0.9 #gamma\n",
    "# step_size = 12*(q/512)\n",
    "\n",
    "print(\"Step_size : \",step_size)\n",
    "print(\" iter |            loss |       norm_grad |       norm_move |        velocity\")\n",
    "print(\"=============================================================================\")\n",
    "\n",
    "for i in range(max_iter):\n",
    "    grad_cur = np.asarray(grad0(LC_d-momentum*velocity)) ## grad1\n",
    "    loss_cur = np.asarray(loss0(LC_d)) ## loss1\n",
    "    velocity = (momentum * velocity + step_size * grad_cur).astype(np.float32)\n",
    "    temp = (LC_d - velocity)\n",
    "    loss_new = np.asarray(loss0(temp)) ## loss1\n",
    "    \n",
    "    if loss_new < loss_cur:\n",
    "        step_size *= 1.2\n",
    "    else:\n",
    "        step_size *= 0.5\n",
    "    \n",
    "    LC_d = temp\n",
    "    loss_cur = loss_new\n",
    "    \n",
    "    velo_hist[i] = np.linalg.norm(velocity,'fro')\n",
    "    loss_hist[i] = loss_cur\n",
    "    grad_hist[i] = np.linalg.norm(grad_cur,'fro')\n",
    "    move_hist[i] = step_size*grad_hist[i]\n",
    "    print( \"%5d |%16.4f |%16.4f |%16.4f |%16.4f\" % (i,loss_hist[i],grad_hist[i],move_hist[i],velo_hist[i]) )\n",
    "print(\"=============================================================================\")\n",
    "\n",
    "\n",
    "print('loss :', loss_hist[-1])\n",
    "print('grad :', grad_hist[-1])\n",
    "\n",
    "\n",
    "plt.figure(figsize=(12,4), dpi=100)\n",
    "plt.plot(range(max_iter), loss_hist, 'o-')\n",
    "plt.grid()\n",
    "plt.xlabel(\"iteration number\")\n",
    "plt.ylabel(\"loss\")\n",
    "plt.show()\n",
    "\n",
    "plt.figure(figsize=(12,4), dpi=100)\n",
    "plt.plot(range(max_iter), grad_hist, 'o-')\n",
    "plt.grid()\n",
    "plt.xlabel(\"iteration number\")\n",
    "plt.ylabel(\"norm_gradient\")\n",
    "plt.show()\n"
   ]
  },
  {
   "cell_type": "code",
   "execution_count": null,
   "metadata": {},
   "outputs": [],
   "source": [
    "LC_d_ls_3 = copy.deepcopy(LC_d)\n",
    "\n",
    "intensity_ls_3 = np.zeros((max_size,max_size), dtype=np.float32)\n",
    "for i in range(lam_depth):\n",
    "    phase_ls_3 = LC_d_ls_3*2*np.pi*d_n/lam_x[i]\n",
    "    xxx = np.exp(1j*phase_ls_3)*quad_phase_3d[:,:,i]\n",
    "    zzz = inten_x[i]*np.exp(1j*2*np.pi*f/lam_x[i])/(1j*lam_x[i]*f)*np.fft.fft2(xxx)/n\n",
    "    img_size = int(p*lam_x[i]/lam)\n",
    "    img_size += img_size%2\n",
    "    zzz = jax.image.resize(zzz, (img_size, img_size), \"nearest\")\n",
    "    zzz = func_reshape(zzz, max_size)\n",
    "    intensity_ls_3 += np.abs(zzz)**2\n",
    "del xxx, zzz\n",
    "\n",
    "plt.imshow(intensity_ls_3, cmap='gray')\n",
    "plt.axis('off')\n",
    "plt.show()"
   ]
  },
  {
   "cell_type": "markdown",
   "metadata": {},
   "source": [
    "# Save LC_d_ls_3"
   ]
  },
  {
   "cell_type": "code",
   "execution_count": null,
   "metadata": {},
   "outputs": [],
   "source": [
    "filename_3 = 'LC_d_ls_3_loss0_%dx%d' %(p,p)\n",
    "print(filename_3)\n",
    "# plt.imsave(filename_3+'.png', LC_d_ls_3, format='png', cmap='gray')\n",
    "np.savetxt(filename_3+'.csv', LC_d_ls_3, fmt='%f')"
   ]
  },
  {
   "cell_type": "code",
   "execution_count": null,
   "metadata": {
    "scrolled": false
   },
   "outputs": [],
   "source": [
    "print(\"Maximum intensity (LS_1): \",intensity_ls_1.max())\n",
    "print(\"Maximum intensity (LS_2): \",intensity_ls_2.max())\n",
    "print(\"Maximum intensity (LS_3): \",intensity_ls_3.max())\n",
    "print(\"\")\n",
    "print(\"Minimum intensity (LS_1): \",intensity_ls_1.min())\n",
    "print(\"Minimum intensity (LS_2): \",intensity_ls_2.min())\n",
    "print(\"Minimum intensity (LS_3): \",intensity_ls_3.min())\n",
    "\n",
    "plt.figure(dpi=100, figsize=(12,12))\n",
    "\n",
    "plt.subplot(331)\n",
    "plt.imshow(target, cmap='gray')\n",
    "plt.axis('off')\n",
    "plt.title('Target')\n",
    "plt.subplot(332)\n",
    "plt.imshow(LC_d_ls_1, cmap='gray')\n",
    "plt.axis('off')\n",
    "plt.title('LCOS (LS_1)')\n",
    "plt.subplot(333)\n",
    "plt.imshow(intensity_ls_1, cmap='gray')\n",
    "plt.axis('off')\n",
    "plt.title('Expected intensity (LS_1)')\n",
    "\n",
    "plt.subplot(334)\n",
    "plt.imshow(target, cmap='gray')\n",
    "plt.axis('off')\n",
    "plt.title('Target')\n",
    "plt.subplot(335)\n",
    "plt.imshow(LC_d_ls_2, cmap='gray')\n",
    "plt.axis('off')\n",
    "plt.title('LCOS (LS_2)')\n",
    "plt.subplot(336)\n",
    "plt.imshow(intensity_ls_2, cmap='gray')\n",
    "plt.axis('off')\n",
    "plt.title('Expected intensity (LS_2)')\n",
    "\n",
    "plt.subplot(337)\n",
    "plt.imshow(target, cmap='gray')\n",
    "plt.axis('off')\n",
    "plt.title('Target')\n",
    "plt.subplot(338)\n",
    "plt.imshow(LC_d_ls_2, cmap='gray')\n",
    "plt.axis('off')\n",
    "plt.title('LCOS (LS_3)')\n",
    "plt.subplot(339)\n",
    "plt.imshow(intensity_ls_3, cmap='gray')\n",
    "plt.axis('off')\n",
    "plt.title('Expected intensity (LS_3)')\n",
    "\n",
    "plt.show()"
   ]
  },
  {
   "cell_type": "code",
   "execution_count": null,
   "metadata": {
    "scrolled": false
   },
   "outputs": [],
   "source": [
    "plt.figure(dpi=400, figsize=(12,4))\n",
    "plt.hist(intensity_ls_1.flatten(),200,label='LS_1')\n",
    "# plt.xlim(0,4e-07)\n",
    "plt.title('Intensity distribution(histogram)')\n",
    "plt.xlabel('Intensity')\n",
    "plt.ylabel('Number of pixels')\n",
    "plt.legend()\n",
    "plt.grid()\n",
    "plt.show()\n",
    "\n",
    "plt.figure(dpi=400, figsize=(12,4))\n",
    "plt.hist(intensity_ls_2.flatten(),200,label='LS_2')\n",
    "# plt.xlim(0,4e-07)\n",
    "plt.title('Intensity distribution(histogram)')\n",
    "plt.xlabel('Intensity')\n",
    "plt.ylabel('Number of pixels')\n",
    "plt.legend()\n",
    "plt.grid()\n",
    "plt.show()\n",
    "\n",
    "plt.figure(dpi=400, figsize=(12,4))\n",
    "plt.hist(intensity_ls_3.flatten(),200,label='LS_3')\n",
    "# plt.xlim(0,4e-07)\n",
    "plt.title('Intensity distribution(histogram)')\n",
    "plt.xlabel('Intensity')\n",
    "plt.ylabel('Number of pixels')\n",
    "plt.legend()\n",
    "plt.grid()\n",
    "plt.show()"
   ]
  }
 ],
 "metadata": {
  "kernelspec": {
   "display_name": "Python 3",
   "language": "python",
   "name": "python3"
  },
  "language_info": {
   "codemirror_mode": {
    "name": "ipython",
    "version": 3
   },
   "file_extension": ".py",
   "mimetype": "text/x-python",
   "name": "python",
   "nbconvert_exporter": "python",
   "pygments_lexer": "ipython3",
   "version": "3.7.3"
  }
 },
 "nbformat": 4,
 "nbformat_minor": 2
}
